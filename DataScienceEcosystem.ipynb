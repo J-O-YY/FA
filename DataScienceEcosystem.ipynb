{
 "cells": [
  {
   "cell_type": "markdown",
   "id": "4a1264c4-70fe-4c8f-811f-162b2cbf8cbc",
   "metadata": {},
   "source": [
    "Data Science Tools and Ecosystem"
   ]
  },
  {
   "cell_type": "markdown",
   "id": "18712761-6aa5-4221-a6de-32bd0b67704c",
   "metadata": {},
   "source": [
    "In this notebook, Data Science Tools and Ecosystem are summarized."
   ]
  },
  {
   "cell_type": "markdown",
   "id": "d3d43316-3ddd-4aca-a6ef-6c8225c184c1",
   "metadata": {},
   "source": [
    "**Objectives:**\n",
    "- Jupyter Notebooks are used in Data Science for recording experiments and projects.\n",
    "- Jupyter Lab is compatible with many files and Data Science languages.\n",
    "- There are different ways to install and use Jupyter Notebooks."
   ]
  },
  {
   "cell_type": "markdown",
   "id": "1287a936-7f0f-40b6-873d-3f6fc07e0c1e",
   "metadata": {},
   "source": [
    "Some of the popular languages that Data Scientists use are:\n",
    "    1.Python\n",
    "    2.R\n",
    "    3.SQL"
   ]
  },
  {
   "cell_type": "markdown",
   "id": "15d09ffa-52af-4d07-b108-9c639e966bba",
   "metadata": {},
   "source": [
    "Some of the commonly used libraries used by Data Scientists include:\n",
    "    1.Numpy\n",
    "    2.Pandas\n",
    "    3.Scikit-learns\n",
    "    4.TensorFlow\n",
    "    5.NLTK"
   ]
  },
  {
   "cell_type": "markdown",
   "id": "259dd606-e6b3-4e14-b351-d90c99026cb3",
   "metadata": {},
   "source": [
    "| #Data Science Tools | \n",
    "| -------------| \n",
    "| Python | \n",
    "| R |\n",
    "| SQL |"
   ]
  },
  {
   "cell_type": "markdown",
   "id": "24a915af-53ca-4bea-8e30-7fda4c994b11",
   "metadata": {
    "tags": []
   },
   "source": [
    "### Below are a few examples of evaluating arithmetic expressions in Python"
   ]
  },
  {
   "cell_type": "code",
   "execution_count": 3,
   "id": "49901cee-9aeb-4e16-8c19-b3dcf32016dc",
   "metadata": {
    "tags": []
   },
   "outputs": [
    {
     "data": {
      "text/plain": [
       "17"
      ]
     },
     "execution_count": 3,
     "metadata": {},
     "output_type": "execute_result"
    }
   ],
   "source": [
    "#This a simple arithmetic expression to mutiply then add integers.\n",
    "(3*4)+5"
   ]
  },
  {
   "cell_type": "code",
   "execution_count": 9,
   "id": "acbdd535-02fe-46b9-98ac-5ef066a1445a",
   "metadata": {
    "tags": []
   },
   "outputs": [
    {
     "name": "stdout",
     "output_type": "stream",
     "text": [
      "3.3333333333333335\n"
     ]
    }
   ],
   "source": [
    "#This will convert 200 minutes to hours by diving by 60.\n",
    "minutes = 200\n",
    "hours = minutes / 60\n",
    "print(hours)"
   ]
  },
  {
   "cell_type": "markdown",
   "id": "861ed419-3b11-4bb5-8016-50b2f76aeeb9",
   "metadata": {},
   "source": [
    "## Author\n",
    "YO J"
   ]
  },
  {
   "cell_type": "code",
   "execution_count": null,
   "id": "d3d33462-259f-45da-ad62-82cd48a71992",
   "metadata": {},
   "outputs": [],
   "source": []
  }
 ],
 "metadata": {
  "kernelspec": {
   "display_name": "Python",
   "language": "python",
   "name": "conda-env-python-py"
  },
  "language_info": {
   "codemirror_mode": {
    "name": "ipython",
    "version": 3
   },
   "file_extension": ".py",
   "mimetype": "text/x-python",
   "name": "python",
   "nbconvert_exporter": "python",
   "pygments_lexer": "ipython3",
   "version": "3.7.12"
  }
 },
 "nbformat": 4,
 "nbformat_minor": 5
}
